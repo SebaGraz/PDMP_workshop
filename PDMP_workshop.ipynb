{
 "cells": [
  {
   "cell_type": "markdown",
   "id": "d1b21265",
   "metadata": {},
   "source": []
  },
  {
   "cell_type": "markdown",
   "id": "13c8922a",
   "metadata": {},
   "source": [
    "# Workshop on PDMP\n",
    "\n",
    "In this worshop we will \n",
    "\n",
    "- Example Random walk vs lifted random walk. \n",
    "- Reproduce the plot \n",
    "- Plot the autocorrelation function. \n",
    "\n",
    "- Simulate data from the linear regression (1 dimensional case  case)\n",
    "- Sample from a quadratic potential \n",
    "- Plot traces, plot empirical distribution (histogram) \n",
    "### Random Walk\n",
    "Simulate and save the trajectory of a random walk on a lattice $\\{1,2,\\dots,N\\}$. The random walk move from $x \n",
    "\\to x \\pm 1$ with probability $1/2$. "
   ]
  },
  {
   "cell_type": "code",
   "execution_count": 1,
   "id": "32f8f7cb",
   "metadata": {},
   "outputs": [
    {
     "ename": "ModuleNotFoundError",
     "evalue": "No module named 'matplotlib'",
     "output_type": "error",
     "traceback": [
      "\u001b[0;31m---------------------------------------------------------------------------\u001b[0m",
      "\u001b[0;31mModuleNotFoundError\u001b[0m                       Traceback (most recent call last)",
      "Cell \u001b[0;32mIn[1], line 4\u001b[0m\n\u001b[1;32m      2\u001b[0m \u001b[38;5;28;01mimport\u001b[39;00m \u001b[38;5;21;01mmath\u001b[39;00m\n\u001b[1;32m      3\u001b[0m \u001b[38;5;28;01mimport\u001b[39;00m \u001b[38;5;21;01mnumpy\u001b[39;00m \u001b[38;5;28;01mas\u001b[39;00m \u001b[38;5;21;01mnp\u001b[39;00m\n\u001b[0;32m----> 4\u001b[0m \u001b[38;5;28;01mimport\u001b[39;00m \u001b[38;5;21;01mmatplotlib\u001b[39;00m\u001b[38;5;21;01m.\u001b[39;00m\u001b[38;5;21;01mpyplot\u001b[39;00m \u001b[38;5;28;01mas\u001b[39;00m \u001b[38;5;21;01mplt\u001b[39;00m\n",
      "\u001b[0;31mModuleNotFoundError\u001b[0m: No module named 'matplotlib'"
     ]
    }
   ],
   "source": [
    "# Required libraries\n",
    "import math\n",
    "import numpy as np\n",
    "import matplotlib.pyplot as plt"
   ]
  },
  {
   "cell_type": "code",
   "execution_count": null,
   "id": "58449ef2",
   "metadata": {},
   "outputs": [],
   "source": [
    "# template for random walk "
   ]
  },
  {
   "cell_type": "code",
   "execution_count": 27,
   "id": "f5a62603",
   "metadata": {},
   "outputs": [
    {
     "ename": "TypeError",
     "evalue": "random_walk() missing 2 required positional arguments: 'initial_state' and 'boundary'",
     "output_type": "error",
     "traceback": [
      "\u001b[0;31m---------------------------------------------------------------------------\u001b[0m",
      "\u001b[0;31mTypeError\u001b[0m                                 Traceback (most recent call last)",
      "Cell \u001b[0;32mIn[27], line 15\u001b[0m\n\u001b[1;32m     13\u001b[0m \u001b[38;5;66;03m# Simulate random walk with 1000 steps\u001b[39;00m\n\u001b[1;32m     14\u001b[0m steps \u001b[38;5;241m=\u001b[39m \u001b[38;5;241m1000\u001b[39m\n\u001b[0;32m---> 15\u001b[0m positions \u001b[38;5;241m=\u001b[39m \u001b[43mrandom_walk\u001b[49m\u001b[43m(\u001b[49m\u001b[43msteps\u001b[49m\u001b[43m)\u001b[49m\n",
      "\u001b[0;31mTypeError\u001b[0m: random_walk() missing 2 required positional arguments: 'initial_state' and 'boundary'"
     ]
    }
   ],
   "source": [
    "# SOLUTIONS WITH MARKS\n",
    "# CHECK AND ADAPT AND ADD BOUNDARIES\n",
    "def random_walk(steps, initial_state, boundary):\n",
    "    state = initial_state\n",
    "    trajectory = [state]\n",
    "    for _ in range(steps):\n",
    "        step = np.random.choice([-1, 1])\n",
    "        if abs(state + step) < boundary:\n",
    "            state += step\n",
    "        trajectory.append(state)\n",
    "    return trajectory\n",
    "\n",
    "# Simulate random walk with 1000 steps\n",
    "steps = 1000\n",
    "positions = random_walk(steps, initial_state, boundary):\n"
   ]
  },
  {
   "cell_type": "markdown",
   "id": "0987776d",
   "metadata": {},
   "source": [
    "### Lifted Random Walk\n",
    "Simulate and save...."
   ]
  },
  {
   "cell_type": "code",
   "execution_count": null,
   "id": "30b0454e",
   "metadata": {},
   "outputs": [],
   "source": [
    "# Template lifted random walk\n"
   ]
  },
  {
   "cell_type": "code",
   "execution_count": null,
   "id": "3bbf5bb9",
   "metadata": {},
   "outputs": [
    {
     "name": "stdout",
     "output_type": "stream",
     "text": [
      "[0, 1, 2, 3, 3, 2, 1, 0, -1, -2, -3, -4, -5, -5, -4, -3, -3, -4, -4, -3, -2, -2, -3, -4, -5, -5, -4, -3, -2, -1, 0, 1, 2, 3, 4, 5, 5, 4, 3, 2, 1, 0, -1, -2, -3, -4, -5, -5, -4, -3, -2]\n"
     ]
    }
   ],
   "source": [
    "# SOLUTIONS WITH MARKS \n",
    "def lifted_random_walk(steps, initial_state, initial_velocity, boundary, refresh_prob):\n",
    "    state = initial_state\n",
    "    velocity = initial_velocity\n",
    "    trajectory = [state]\n",
    "    for _ in range(steps):\n",
    "        if (refresh_prob > np.random.random()) and (abs(state) < boundary):\n",
    "            velocity *= -1\n",
    "        elif state * velocity == boundary :     \n",
    "            velocity *= -1\n",
    "        else: \n",
    "            state += velocity\n",
    "        trajectory.append(state)\n",
    "    return trajectory\n",
    "\n",
    "traj = lifted_random_walk(50, 0, 1, 5, 0.1)\n",
    "print(traj)"
   ]
  },
  {
   "cell_type": "markdown",
   "id": "e2e45d7f",
   "metadata": {},
   "source": [
    "# Plotting autocorrelation and traces\n",
    "- reproduce the trace plot \n",
    "- Compute and compare autocorrelation of rw and lrw\n"
   ]
  },
  {
   "cell_type": "code",
   "execution_count": null,
   "id": "cc51ee31",
   "metadata": {},
   "outputs": [],
   "source": [
    "# template for plots \n",
    "# use numpy.correlate"
   ]
  },
  {
   "cell_type": "code",
   "execution_count": null,
   "id": "cd4dd3d4",
   "metadata": {},
   "outputs": [],
   "source": [
    "# SOLUTIONS WITH MARKS "
   ]
  },
  {
   "cell_type": "markdown",
   "id": "e0099f92",
   "metadata": {},
   "source": [
    "Simulate data from linear regression with one covariate\n",
    "- simulate $N=100$ observations:\n",
    "- $x_i \\sim \\mathcal{N}(0,1)$\n",
    "- $y_i \\sim \\mathcal{N}(x_i\\beta, \\sigma^2)$, $\\sigma = 1.0, \\beta = 0.5$"
   ]
  },
  {
   "cell_type": "code",
   "execution_count": null,
   "id": "3f52fd20",
   "metadata": {},
   "outputs": [],
   "source": [
    "# template for simulating data \n",
    "# use numpy.random.normal\n",
    "# store y = (y_1,y_2,...,y_N) as a numpy.array \n",
    "#  ...\n"
   ]
  },
  {
   "cell_type": "code",
   "execution_count": null,
   "id": "35156f03",
   "metadata": {},
   "outputs": [
    {
     "name": "stdout",
     "output_type": "stream",
     "text": [
      "Covariate (X): [0.92431025 0.41821823 0.15416846 0.91175336 0.58510597]\n",
      "Response (y): [2.47278991 1.89052296 2.12070938 2.86163345 2.34201815]\n"
     ]
    }
   ],
   "source": [
    "# SOLUTIONS WITH MARKS\n",
    "# CHECK AND ADAPT\n",
    "import numpy as np\n",
    "\n",
    "def simulate_linear_regression_data(N, true_slope, true_intercept, noise_std):\n",
    "    # Generate random covariate values\n",
    "    X = np.random.rand(N)\n",
    "    \n",
    "    # Generate response variable values\n",
    "    noise = np.random.normal(0, noise_std, N)\n",
    "    y = true_slope * X + true_intercept + noise\n",
    "    \n",
    "    return X, y\n",
    "\n",
    "# Parameters\n",
    "N = 100  # Number of data points\n",
    "true_slope = 2.0  # True slope parameter\n",
    "true_intercept = 1.0  # True intercept parameter\n",
    "noise_std = 0.5  # Standard deviation of noise\n",
    "\n",
    "# Simulate data\n",
    "X, y = simulate_linear_regression_data(N, true_slope, true_intercept, noise_std)\n",
    "\n",
    "# Display the first few data points\n",
    "print(\"Covariate (X):\", X[:5])\n",
    "print(\"Response (y):\", y[:5])"
   ]
  },
  {
   "cell_type": "markdown",
   "id": "f80f950e",
   "metadata": {},
   "source": [
    "# Sample from the quadratic potential \n",
    "- In this case $\\lambda(t) = max(0, a + b*t)$\n",
    "- simulate $\\tau$ such that $P(\\tau > t) = \\exp(- \\int_0^t \\lambda(s) ds)$\n"
   ]
  },
  {
   "cell_type": "code",
   "execution_count": null,
   "id": "dfcc3ffd",
   "metadata": {},
   "outputs": [
    {
     "name": "stdout",
     "output_type": "stream",
     "text": [
      "0.28545862173698733\n"
     ]
    }
   ],
   "source": [
    "# provide the function \n",
    "# \\lambda(t) = max(0, a + b*t)\n",
    "#  simulate \\tau such that P(\\tau > t) = \\exp(- \\int_0^t \\lambda(s) ds)\n",
    "def poisson_time(a, b, u):\n",
    "    if b > 0:\n",
    "        if a < 0:\n",
    "            return math.sqrt(-math.log(u)*2.0/b) - a/b\n",
    "        else:  # a > 0\n",
    "            return math.sqrt((a/b)**2 - math.log(u)*2.0/b) - a/b\n",
    "    elif b == 0:\n",
    "        if a > 0:\n",
    "            return -math.log(u)/a\n",
    "        else:\n",
    "            return float('inf')\n",
    "    else:  # b < 0\n",
    "        if a <= 0:\n",
    "            return float('inf')\n",
    "        elif -math.log(u) <= -a**2/b + a**2/(2*b):\n",
    "            return -math.sqrt((a/b)**2 - math.log(u)*2.0/b) - a/b\n",
    "        else:\n",
    "            return float('inf')\n",
    "\n",
    "# Example usage\n",
    "result = poisson_time(2, 3, 0.5)\n",
    "print(result)"
   ]
  },
  {
   "cell_type": "markdown",
   "id": "eaa54697",
   "metadata": {},
   "source": [
    "# Alternative simulation of PDMP bounce/event times for a 1D Gaussian\n",
    "\n",
    "A variant on the following might be useful as it allows us to simulate the bounce coordinates in one line of code without the students having to worry too much about the velocity, though we **do need to add something to track its sign**...\n",
    "\n",
    "- At constant unit speed, the distance travelled $|\\eta|$ (before the next event) through the uphill part of some 1D potential $U$ can be simulated via:\n",
    "    $$\n",
    "    \\rm{rand}(0, 1] = \\exp \\left[- \\int_0^{\\eta} \\left(\\frac{\\partial U}{\\partial x}\\right)^+ dx \\right]\n",
    "    $$\n",
    "- As we're simulating the distance travelled through the uphill part of the potential, we can invert this to write:\n",
    "    $$\n",
    "    -\\ln \\left( \\rm{rand}(0, 1] \\right) = U(\\eta) - U(0)\n",
    "    $$\n",
    "- For a 1D mean-zero, unit-variance Gaussian $\\mathcal{N}(0, 1)$ this becomes:\n",
    "    $$\n",
    "    |\\eta| = \\sqrt{- 2 \\ln \\left( \\rm{rand}(0, 1] \\right)}\n",
    "    $$\n",
    "- More generally, for $\\mathcal{N}(\\mu, \\sigma^2)$:\n",
    "    $$\n",
    "    -\\ln \\left( \\rm{rand}(0, 1] \\right) = \\frac{1}{2\\sigma^2} (\\eta^2 - 2 \\mu \\eta)\n",
    "    $$\n",
    "    $$\n",
    "    \\Rightarrow |\\eta| = \\mu + \\sqrt{\\mu^2 - 2 \\sigma^2 \\ln \\left( \\rm{rand}(0, 1] \\right)}\n",
    "    $$"
   ]
  },
  {
   "cell_type": "code",
   "execution_count": null,
   "id": "b7a992af",
   "metadata": {},
   "outputs": [],
   "source": [
    "def get_distance_from_origin_to_next_event_for_1d_gaussian(mean, variance):\n",
    "        r\"\"\"\n",
    "        Returns the distance $|\\eta|$ travelled (before the next zig-zag event) through the uphill part of\n",
    "        a one-dimensional Gaussian $\\mathcal{N}(mu, sigma^2)$ with mean $\\mu$ and variance $\\sigma^2$, \n",
    "        i.e., from the origin to $\\eta$.  This is calculated by inverting\n",
    "\n",
    "            $ \\rand(0.0, 1.0) =\n",
    "                \\exp \\left[- \\int_0^{\\eta} \\left(\\frac{\\partial U}{\\partial x}\\right)^+ dx \\right] $\n",
    "        \n",
    "        Parameters\n",
    "        ----------\n",
    "        mean : float\n",
    "            The mean ($\\mu$) of the Gaussian target distribution.\n",
    "        variance : float\n",
    "            The variance ($\\sigma^2$) of the Gaussian target distribution.\n",
    "\n",
    "        Returns\n",
    "        -------\n",
    "        float\n",
    "            The distance travelled (before the next zig-zag event) through the uphill part of the \n",
    "            one-dimensional Gaussian potential $\\mathcal{N}(mean, variance)$.\n",
    "        \"\"\"\n",
    "        return mean + (mean ** 2.0 - 2.0 * variance * np.log(1.0 - np.random.random())) ** 0.5"
   ]
  },
  {
   "cell_type": "markdown",
   "id": "3f570f80",
   "metadata": {},
   "source": [
    "- Original code for a 1D mean-zero, unit-variance Gaussian $\\mathcal{N}(0, 1)$ (will remove later):"
   ]
  },
  {
   "cell_type": "code",
   "execution_count": null,
   "id": "6563c48d",
   "metadata": {},
   "outputs": [],
   "source": [
    "def get_distance_from_origin_to_next_event_for_1d_gaussiant_mean_zero_variance_one():\n",
    "        r\"\"\"\n",
    "        Returns the distance $|\\eta|$ travelled (before the next zig-zag event) through the uphill part of\n",
    "        a one-dimensional Gaussian with mean 0, variance 1, i.e., from the origin to $\\eta$.  This is \n",
    "        calculated by inverting\n",
    "\n",
    "            $ \\rand(0.0, 1.0) =\n",
    "                \\exp \\left[- \\int_0^{\\eta} \\left(\\frac{\\partial U}{\\partial x}\\right)^+ dx \\right] $\n",
    "\n",
    "        Returns\n",
    "        -------\n",
    "        float\n",
    "            The distance travelled (before the next zig-zag event) through the uphill part of the \n",
    "            one-dimensional Gaussian potential N(0, 1).\n",
    "        \"\"\"\n",
    "        return (- 2.0 * np.log(1.0 - np.random.random())) ** 0.5\n"
   ]
  },
  {
   "cell_type": "markdown",
   "id": "50316d30",
   "metadata": {},
   "source": [
    "### Derive analyitically posterior \n",
    "- Set a Gaussian proir\n",
    "- Derive the Gaussian posterior \n",
    "- What is its mean?\n",
    "image.png\n"
   ]
  },
  {
   "cell_type": "markdown",
   "id": "b6bd3676",
   "metadata": {},
   "source": [
    "### Simulate PDMP and plot trace and compute empirical mean\n",
    "- Fill in the gaps in the tamplate\n",
    "- Figure how to plot the trace\n",
    "- Figure how to derive the mean from the skeleton points \n",
    "\n",
    "![image](procedure_zz.png)"
   ]
  },
  {
   "cell_type": "markdown",
   "id": "48cfc670",
   "metadata": {},
   "source": []
  },
  {
   "cell_type": "code",
   "execution_count": null,
   "id": "0192d33b",
   "metadata": {},
   "outputs": [],
   "source": []
  },
  {
   "cell_type": "markdown",
   "id": "f4a77b12",
   "metadata": {},
   "source": []
  }
 ],
 "metadata": {
  "kernelspec": {
   "display_name": "Python 3.9.6 64-bit",
   "language": "python",
   "name": "python3"
  },
  "language_info": {
   "codemirror_mode": {
    "name": "ipython",
    "version": 3
   },
   "file_extension": ".py",
   "mimetype": "text/x-python",
   "name": "python",
   "nbconvert_exporter": "python",
   "pygments_lexer": "ipython3",
   "version": "3.9.6"
  },
  "vscode": {
   "interpreter": {
    "hash": "31f2aee4e71d21fbe5cf8b01ff0e069b9275f58929596ceb00d14d90e3e16cd6"
   }
  }
 },
 "nbformat": 4,
 "nbformat_minor": 5
}
