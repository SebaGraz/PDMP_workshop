{
 "cells": [
  {
   "cell_type": "markdown",
   "id": "d1b21265",
   "metadata": {},
   "source": []
  },
  {
   "cell_type": "markdown",
   "id": "13c8922a",
   "metadata": {},
   "source": [
    "# Workshop on PDMP\n",
    "\n",
    "In this worshop we will \n",
    "\n",
    "- Example Random walk vs lifted random walk. \n",
    "- Reproduce the plot \n",
    "- Plot the autocorrelation function. \n",
    "\n",
    "- Simulate data from the linear regression (1 dimensional case  case)\n",
    "- Sample from a quadratic potential \n",
    "- Plot traces, plot empirical distribution (histogram) \n",
    "### Random Walk\n",
    "Simulate and save the trajectory of a random walk on a lattice $\\{1,2,\\dots,N\\}$. The random walk move from $x \n",
    "\\to x \\pm 1$ with probability $1/2$. "
   ]
  },
  {
   "cell_type": "code",
   "execution_count": null,
   "id": "58449ef2",
   "metadata": {},
   "outputs": [],
   "source": [
    "# template for random walk "
   ]
  },
  {
   "cell_type": "markdown",
   "id": "0987776d",
   "metadata": {},
   "source": [
    "### Lifted Random Walk\n",
    "Simulate and save...."
   ]
  },
  {
   "cell_type": "code",
   "execution_count": null,
   "id": "30b0454e",
   "metadata": {},
   "outputs": [],
   "source": [
    "# Template lifted random walk\n"
   ]
  },
  {
   "cell_type": "markdown",
   "id": "f80f950e",
   "metadata": {},
   "source": []
  }
 ],
 "metadata": {
  "kernelspec": {
   "display_name": "Python 3.9.6 64-bit",
   "language": "python",
   "name": "python3"
  },
  "language_info": {
   "codemirror_mode": {
    "name": "ipython",
    "version": 3
   },
   "file_extension": ".py",
   "mimetype": "text/x-python",
   "name": "python",
   "nbconvert_exporter": "python",
   "pygments_lexer": "ipython3",
   "version": "3.9.6"
  },
  "vscode": {
   "interpreter": {
    "hash": "31f2aee4e71d21fbe5cf8b01ff0e069b9275f58929596ceb00d14d90e3e16cd6"
   }
  }
 },
 "nbformat": 4,
 "nbformat_minor": 5
}
