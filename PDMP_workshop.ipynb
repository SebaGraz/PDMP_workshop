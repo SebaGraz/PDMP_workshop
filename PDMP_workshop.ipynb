{
 "cells": [
  {
   "cell_type": "markdown",
   "id": "d1b21265",
   "metadata": {},
   "source": []
  },
  {
   "cell_type": "markdown",
   "id": "13c8922a",
   "metadata": {},
   "source": [
    "# Workshop on PDMP\n",
    "\n",
    "In this worshop we will \n",
    "\n",
    "- Example Random walk vs lifted random walk. \n",
    "- Reproduce the plot \n",
    "- Plot the autocorrelation function. \n",
    "\n",
    "- Simulate data from the linear regression (1 dimensional case  case)\n",
    "- Sample from a quadratic potential \n",
    "- Plot traces, plot empirical distribution (histogram) \n",
    "### Random Walk\n",
    "Simulate and save the trajectory of a random walk on a lattice $\\{1,2,\\dots,N\\}$. The random walk move from $x \n",
    "\\to x \\pm 1$ with probability $1/2$. "
   ]
  },
  {
   "cell_type": "code",
   "execution_count": null,
   "id": "58449ef2",
   "metadata": {},
   "outputs": [],
   "source": [
    "# template for random walk "
   ]
  },
  {
   "cell_type": "code",
   "execution_count": null,
   "id": "f5a62603",
   "metadata": {},
   "outputs": [],
   "source": [
    "# SOLUTIONS WITH MARKS "
   ]
  },
  {
   "cell_type": "markdown",
   "id": "0987776d",
   "metadata": {},
   "source": [
    "### Lifted Random Walk\n",
    "Simulate and save...."
   ]
  },
  {
   "cell_type": "code",
   "execution_count": null,
   "id": "30b0454e",
   "metadata": {},
   "outputs": [],
   "source": [
    "# Template lifted random walk\n"
   ]
  },
  {
   "cell_type": "code",
   "execution_count": null,
   "id": "3bbf5bb9",
   "metadata": {},
   "outputs": [],
   "source": [
    "# SOLUTIONS WITH MARKS "
   ]
  },
  {
   "cell_type": "markdown",
   "id": "e2e45d7f",
   "metadata": {},
   "source": [
    "# Plotting autocorrelation and traces\n",
    "- reproduce the trace plot \n",
    "- Compute and compare autocorrelation of rw and lrw\n"
   ]
  },
  {
   "cell_type": "code",
   "execution_count": null,
   "id": "cc51ee31",
   "metadata": {},
   "outputs": [],
   "source": [
    "# template for plots \n",
    "# use numpy.correlate"
   ]
  },
  {
   "cell_type": "code",
   "execution_count": null,
   "id": "cd4dd3d4",
   "metadata": {},
   "outputs": [],
   "source": [
    "# SOLUTIONS WITH MARKS "
   ]
  },
  {
   "cell_type": "markdown",
   "id": "e0099f92",
   "metadata": {},
   "source": [
    "Simulate data from linear regression with one covariate\n",
    "- simulate $N=100$ observations:\n",
    "- $x_i \\sim \\mathcal{N}(0,1)$\n",
    "- $y_i \\sim \\mathcal{N}(x_i\\beta, \\sigma^2)$, $\\sigma = 1.0, \\beta = 0.5$"
   ]
  },
  {
   "cell_type": "code",
   "execution_count": null,
   "id": "3f52fd20",
   "metadata": {},
   "outputs": [],
   "source": [
    "# template for simulating data \n",
    "# use numpy.random.normal\n",
    "# store y = (y_1,y_2,...,y_N) as a numpy.array \n",
    "#  ..."
   ]
  },
  {
   "cell_type": "code",
   "execution_count": null,
   "id": "35156f03",
   "metadata": {},
   "outputs": [],
   "source": [
    "# SOLUTIONS WITH MARKS "
   ]
  },
  {
   "cell_type": "markdown",
   "id": "f80f950e",
   "metadata": {},
   "source": [
    "# Sample from the quadratic potential \n",
    "- In this case $\\lambda(t) = max(0, a + b*t)$\n",
    "- simulate $\\tau$ such that $P(\\tau > t) = \\exp(- \\int_0^t \\lambda(s) ds)$\n"
   ]
  },
  {
   "cell_type": "code",
   "execution_count": null,
   "id": "dfcc3ffd",
   "metadata": {},
   "outputs": [],
   "source": [
    "# provide the function \n",
    "# \\lambda(t) = max(0, a + b*t)\n",
    "#  simulate \\tau such that P(\\tau > t) = \\exp(- \\int_0^t \\lambda(s) ds)\n",
    "import math\n",
    "def poisson_time(a, b, u):\n",
    "    if b > 0:\n",
    "        if a < 0:\n",
    "            return math.sqrt(-math.log(u)*2.0/b) - a/b\n",
    "        else:  # a > 0\n",
    "            return math.sqrt((a/b)**2 - math.log(u)*2.0/b) - a/b\n",
    "    elif b == 0:\n",
    "        if a > 0:\n",
    "            return -math.log(u)/a\n",
    "        else:\n",
    "            return float('inf')\n",
    "    else:  # b < 0\n",
    "        if a <= 0:\n",
    "            return float('inf')\n",
    "        elif -math.log(u) <= -a**2/b + a**2/(2*b):\n",
    "            return -math.sqrt((a/b)**2 - math.log(u)*2.0/b) - a/b\n",
    "        else:\n",
    "            return float('inf')\n",
    "\n",
    "# Example usage\n",
    "result = poisson_time(2, 3, 0.5)\n",
    "print(result)"
   ]
  },
  {
   "cell_type": "markdown",
   "id": "50316d30",
   "metadata": {},
   "source": [
    "### Derive analyitically posterior \n",
    "- Set a Gaussian proir\n",
    "- Derive the Gaussian posterior \n",
    "- What is its mean?\n",
    "image.png\n"
   ]
  },
  {
   "cell_type": "markdown",
   "id": "b6bd3676",
   "metadata": {},
   "source": [
    "### Simulate PDMP and plot trace and compute empirical mean\n",
    "- Fill in the gaps in the tamplate\n",
    "- Figure how to plot the trace\n",
    "- Figure how to derive the mean from the skeleton points \n",
    "\n",
    "![image](procedure_zz.png)"
   ]
  },
  {
   "cell_type": "markdown",
   "id": "48cfc670",
   "metadata": {},
   "source": []
  },
  {
   "cell_type": "code",
   "execution_count": null,
   "id": "0192d33b",
   "metadata": {},
   "outputs": [],
   "source": []
  },
  {
   "cell_type": "markdown",
   "id": "f4a77b12",
   "metadata": {},
   "source": []
  }
 ],
 "metadata": {
  "kernelspec": {
   "display_name": "Python 3.9.6 64-bit",
   "language": "python",
   "name": "python3"
  },
  "language_info": {
   "codemirror_mode": {
    "name": "ipython",
    "version": 3
   },
   "file_extension": ".py",
   "mimetype": "text/x-python",
   "name": "python",
   "nbconvert_exporter": "python",
   "pygments_lexer": "ipython3",
   "version": "3.9.6"
  },
  "vscode": {
   "interpreter": {
    "hash": "31f2aee4e71d21fbe5cf8b01ff0e069b9275f58929596ceb00d14d90e3e16cd6"
   }
  }
 },
 "nbformat": 4,
 "nbformat_minor": 5
}
